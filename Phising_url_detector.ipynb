{
  "nbformat": 4,
  "nbformat_minor": 0,
  "metadata": {
    "colab": {
      "provenance": [],
      "authorship_tag": "ABX9TyOXfZcF4k4OoZAgvTcktQ14",
      "include_colab_link": true
    },
    "kernelspec": {
      "name": "python3",
      "display_name": "Python 3"
    },
    "language_info": {
      "name": "python"
    }
  },
  "cells": [
    {
      "cell_type": "markdown",
      "metadata": {
        "id": "view-in-github",
        "colab_type": "text"
      },
      "source": [
        "<a href=\"https://colab.research.google.com/github/shubhamgupta1017/FishEye/blob/main/Phising_url_detector.ipynb\" target=\"_parent\"><img src=\"https://colab.research.google.com/assets/colab-badge.svg\" alt=\"Open In Colab\"/></a>"
      ]
    },
    {
      "cell_type": "code",
      "execution_count": null,
      "metadata": {
        "id": "tZfHcV6XoPWp"
      },
      "outputs": [],
      "source": [
        "import pandas as pd\n",
        "import matplotlib.pyplot as plt\n",
        "import numpy as np"
      ]
    },
    {
      "cell_type": "code",
      "source": [
        "from flask import Flask, request, jsonify\n",
        "from bs4 import BeautifulSoup\n",
        "import requests\n",
        "from urllib.parse import urlparse\n",
        "import re"
      ],
      "metadata": {
        "id": "CUitY5ldpHqs"
      },
      "execution_count": null,
      "outputs": []
    },
    {
      "cell_type": "code",
      "source": [
        "df=pd.read_csv(\"/content/phishing_site_urls.csv\")"
      ],
      "metadata": {
        "id": "99JntDupp-BD"
      },
      "execution_count": null,
      "outputs": []
    },
    {
      "cell_type": "code",
      "source": [
        "!pip install scikit-learn==1.4.0\n"
      ],
      "metadata": {
        "colab": {
          "base_uri": "https://localhost:8080/"
        },
        "id": "g-RBf3n4Dvso",
        "outputId": "61514b16-3c17-4fe9-8eb8-4c422da201a3"
      },
      "execution_count": null,
      "outputs": [
        {
          "output_type": "stream",
          "name": "stdout",
          "text": [
            "Requirement already satisfied: scikit-learn==1.4.0 in /usr/local/lib/python3.10/dist-packages (1.4.0)\n",
            "Requirement already satisfied: numpy<2.0,>=1.19.5 in /usr/local/lib/python3.10/dist-packages (from scikit-learn==1.4.0) (1.23.5)\n",
            "Requirement already satisfied: scipy>=1.6.0 in /usr/local/lib/python3.10/dist-packages (from scikit-learn==1.4.0) (1.11.4)\n",
            "Requirement already satisfied: joblib>=1.2.0 in /usr/local/lib/python3.10/dist-packages (from scikit-learn==1.4.0) (1.3.2)\n",
            "Requirement already satisfied: threadpoolctl>=2.0.0 in /usr/local/lib/python3.10/dist-packages (from scikit-learn==1.4.0) (3.2.0)\n"
          ]
        }
      ]
    },
    {
      "cell_type": "code",
      "source": [
        "!pip install sklearn==1.4.0\n"
      ],
      "metadata": {
        "colab": {
          "base_uri": "https://localhost:8080/"
        },
        "id": "9Ht_Bf76Fvrt",
        "outputId": "d2f3c664-e02c-43d3-8f3e-08b5b9334acf"
      },
      "execution_count": null,
      "outputs": [
        {
          "output_type": "stream",
          "name": "stdout",
          "text": [
            "\u001b[31mERROR: Could not find a version that satisfies the requirement sklearn==1.4.0 (from versions: 0.0, 0.0.post1, 0.0.post2, 0.0.post4, 0.0.post5, 0.0.post7, 0.0.post9, 0.0.post10, 0.0.post11, 0.0.post12)\u001b[0m\u001b[31m\n",
            "\u001b[0m\u001b[31mERROR: No matching distribution found for sklearn==1.4.0\u001b[0m\u001b[31m\n",
            "\u001b[0m"
          ]
        }
      ]
    },
    {
      "cell_type": "code",
      "source": [
        "# data=np.array(df)"
      ],
      "metadata": {
        "id": "h1ct8bgzqClE"
      },
      "execution_count": null,
      "outputs": []
    },
    {
      "cell_type": "code",
      "source": [
        "# print(data)"
      ],
      "metadata": {
        "id": "yIWfjARhzMgG"
      },
      "execution_count": null,
      "outputs": []
    },
    {
      "cell_type": "code",
      "source": [
        "df.info()"
      ],
      "metadata": {
        "colab": {
          "base_uri": "https://localhost:8080/"
        },
        "id": "uRIeuzm9KOwH",
        "outputId": "c8883b79-2608-4d38-c1a1-4c5d0c6dd49b"
      },
      "execution_count": null,
      "outputs": [
        {
          "output_type": "stream",
          "name": "stdout",
          "text": [
            "<class 'pandas.core.frame.DataFrame'>\n",
            "RangeIndex: 549846 entries, 0 to 549845\n",
            "Data columns (total 2 columns):\n",
            " #   Column  Non-Null Count   Dtype \n",
            "---  ------  --------------   ----- \n",
            " 0   URL     549846 non-null  object\n",
            " 1   Label   549846 non-null  object\n",
            "dtypes: object(2)\n",
            "memory usage: 8.4+ MB\n"
          ]
        }
      ]
    },
    {
      "cell_type": "code",
      "source": [
        "# df['slash_count'] =''\n",
        "# df['unicode'] = ''\n",
        "# df['ip_address'] = ''\n",
        "# df['at_symbol'] = ''\n",
        "# df['dot_count'] = ''\n",
        "# df['dash'] = ''\n",
        "# df['double_slash'] = ''\n",
        "# df['https_token'] = ''\n",
        "# df['shortened_url'] = ''\n",
        "# df['hostname_length'] = ''"
      ],
      "metadata": {
        "id": "pO0d2uoJxJOl"
      },
      "execution_count": null,
      "outputs": []
    },
    {
      "cell_type": "code",
      "source": [
        "df.info()"
      ],
      "metadata": {
        "colab": {
          "base_uri": "https://localhost:8080/"
        },
        "id": "gzKrFr8WKR3x",
        "outputId": "940fe5da-8712-41a7-c8b4-67c9084da605"
      },
      "execution_count": null,
      "outputs": [
        {
          "output_type": "stream",
          "name": "stdout",
          "text": [
            "<class 'pandas.core.frame.DataFrame'>\n",
            "RangeIndex: 549846 entries, 0 to 549845\n",
            "Data columns (total 2 columns):\n",
            " #   Column  Non-Null Count   Dtype \n",
            "---  ------  --------------   ----- \n",
            " 0   URL     549846 non-null  object\n",
            " 1   Label   549846 non-null  object\n",
            "dtypes: object(2)\n",
            "memory usage: 8.4+ MB\n"
          ]
        }
      ]
    },
    {
      "cell_type": "code",
      "source": [
        "def count_slash(url):\n",
        "    count = 0\n",
        "    for char in url:\n",
        "        if char == '/':\n",
        "            count += 1\n",
        "    return count\n",
        "\n",
        "def c_unicode(url):\n",
        "    parsed_url = urlparse(url)\n",
        "    url_without_encoding = parsed_url.netloc.encode('idna').decode('utf-8')\n",
        "    return url_without_encoding != parsed_url.netloc\n",
        "\n",
        "\n",
        "def contains_ip_address(url):\n",
        "    ip_pattern = r\"\\b(?:\\d{1,3}\\.){3}\\d{1,3}\\b\"\n",
        "    match = re.search(ip_pattern, url)\n",
        "    return match is not None\n",
        "\n",
        "def contains_at_symbol(url):\n",
        "    return '@' in url\n",
        "\n",
        "\n",
        "def count_dots_in_hostname(url):\n",
        "    parsed_url = urlparse(url)\n",
        "    hostname = parsed_url.hostname\n",
        "    if hostname:\n",
        "        return hostname.count('.')\n",
        "    else:\n",
        "        return 0\n",
        "\n",
        "def contains_at_symbol(url):\n",
        "    return '-' in url\n",
        "\n",
        "def check_double_slash_in_path(url):\n",
        "    parsed_url = urlparse(url)\n",
        "    if parsed_url.path:\n",
        "        if \"//\" in parsed_url.path:\n",
        "            return 1\n",
        "    return 0\n",
        "\n",
        "def check_https_token_in_url(url):\n",
        "    parsed_url = urlparse(url)\n",
        "    if parsed_url.scheme == 'https':\n",
        "        return 1\n",
        "    return 0\n",
        "\n",
        "def is_shortened_url(url):\n",
        "    parsed_url = urlparse(url)\n",
        "    return parsed_url.netloc.lower() == 'tinyurl.com'\n",
        "\n",
        "def check_hostname_length(url):\n",
        "    if len(url) > 40:\n",
        "            return 1\n",
        "    return 0\n",
        "\n",
        "\n",
        "def calc(url):\n",
        "    try:\n",
        "        # response = requests.get(url)\n",
        "        # html_content = response.text\n",
        "        features={}\n",
        "        # soup = BeautifulSoup(html_content, 'html.parser')\n",
        "        # features['link_count']=len(soup.find_all('a'))\n",
        "        # features['i-frame']=int(bool(soup.find_all('iframe')))\n",
        "\n",
        "        # script_tags = soup.find_all('script')\n",
        "        # javascript_content = ''\n",
        "        # for script in script_tags:\n",
        "        #     script_content = script.text.lower()\n",
        "        #     if 'event.button==2' in script_content or 'event.which==3' in script_content:\n",
        "        #         if 'preventdefault' in script_content or 'return false' in script_content:\n",
        "        #             features['right-dis'] = 1\n",
        "\n",
        "        features['slash_count'] = int(count_slash(url))\n",
        "        features['unicode'] = int(c_unicode(url))\n",
        "        features['ip_address'] = int(contains_ip_address(url))\n",
        "        features['at_symbol'] = int(contains_at_symbol(url))\n",
        "        features['dot_count'] = int(count_dots_in_hostname(url))\n",
        "        features['dash'] = int(contains_at_symbol(url))\n",
        "        features['double_slash'] = int(check_double_slash_in_path(url))\n",
        "        features['https_token'] = int(check_https_token_in_url(url))\n",
        "        features['shortened_url'] = int(is_shortened_url(url))\n",
        "        features['hostname_length'] = int(check_hostname_length(url))\n",
        "\n",
        "\n",
        "\n",
        "        return features\n",
        "\n",
        "    except Exception as e:\n",
        "        print(f\"Error occurred: {e}\")\n",
        "        return None, None\n"
      ],
      "metadata": {
        "id": "9VVt3RqqpBIC"
      },
      "execution_count": null,
      "outputs": []
    },
    {
      "cell_type": "code",
      "source": [],
      "metadata": {
        "id": "JLj2oHoG4Dmq"
      },
      "execution_count": null,
      "outputs": []
    },
    {
      "cell_type": "code",
      "source": [
        "features_list = [calc(url) for url in df['URL']]\n",
        "print(\"..........................................................................................................................................\")\n",
        "# Convert the list of dictionaries into a DataFrame\n",
        "features_df = pd.DataFrame(features_list)\n",
        "print(\"..........................................................................................................................................\")\n",
        "# Concatenate the original DataFrame 'df' and the features DataFrame\n",
        "df = pd.concat([df, features_df], axis=1)"
      ],
      "metadata": {
        "colab": {
          "base_uri": "https://localhost:8080/"
        },
        "id": "tOBRa-6eqz0E",
        "outputId": "45dd90f4-bfca-44ca-d63f-022d4d6b0dfc"
      },
      "execution_count": null,
      "outputs": [
        {
          "output_type": "stream",
          "name": "stdout",
          "text": [
            "..........................................................................................................................................\n",
            "..........................................................................................................................................\n"
          ]
        }
      ]
    },
    {
      "cell_type": "code",
      "source": [
        "df.head()"
      ],
      "metadata": {
        "colab": {
          "base_uri": "https://localhost:8080/",
          "height": 243
        },
        "id": "1XknMiDZ6qdq",
        "outputId": "05f587ad-0bd3-4c24-e773-266ce2d91343"
      },
      "execution_count": null,
      "outputs": [
        {
          "output_type": "execute_result",
          "data": {
            "text/plain": [
              "                                                 URL Label  slash_count  \\\n",
              "0  nobell.it/70ffb52d079109dca5664cce6f317373782/...   bad           10   \n",
              "1  www.dghjdgf.com/paypal.co.uk/cycgi-bin/webscrc...   bad            4   \n",
              "2  serviciosbys.com/paypal.cgi.bin.get-into.herf....   bad           11   \n",
              "3  mail.printakid.com/www.online.americanexpress....   bad            2   \n",
              "4  thewhiskeydregs.com/wp-content/themes/widescre...   bad           10   \n",
              "\n",
              "   unicode  ip_address  at_symbol  dot_count  dash  double_slash  https_token  \\\n",
              "0        0           0          1          0     1             0            0   \n",
              "1        0           0          1          0     1             0            0   \n",
              "2        0           0          1          0     1             0            0   \n",
              "3        0           0          0          0     0             0            0   \n",
              "4        0           0          1          0     1             0            0   \n",
              "\n",
              "   shortened_url  hostname_length  \n",
              "0              0                1  \n",
              "1              0                1  \n",
              "2              0                1  \n",
              "3              0                1  \n",
              "4              0                1  "
            ],
            "text/html": [
              "\n",
              "  <div id=\"df-cd48f603-c7ed-41c4-b323-51d3576e863c\" class=\"colab-df-container\">\n",
              "    <div>\n",
              "<style scoped>\n",
              "    .dataframe tbody tr th:only-of-type {\n",
              "        vertical-align: middle;\n",
              "    }\n",
              "\n",
              "    .dataframe tbody tr th {\n",
              "        vertical-align: top;\n",
              "    }\n",
              "\n",
              "    .dataframe thead th {\n",
              "        text-align: right;\n",
              "    }\n",
              "</style>\n",
              "<table border=\"1\" class=\"dataframe\">\n",
              "  <thead>\n",
              "    <tr style=\"text-align: right;\">\n",
              "      <th></th>\n",
              "      <th>URL</th>\n",
              "      <th>Label</th>\n",
              "      <th>slash_count</th>\n",
              "      <th>unicode</th>\n",
              "      <th>ip_address</th>\n",
              "      <th>at_symbol</th>\n",
              "      <th>dot_count</th>\n",
              "      <th>dash</th>\n",
              "      <th>double_slash</th>\n",
              "      <th>https_token</th>\n",
              "      <th>shortened_url</th>\n",
              "      <th>hostname_length</th>\n",
              "    </tr>\n",
              "  </thead>\n",
              "  <tbody>\n",
              "    <tr>\n",
              "      <th>0</th>\n",
              "      <td>nobell.it/70ffb52d079109dca5664cce6f317373782/...</td>\n",
              "      <td>bad</td>\n",
              "      <td>10</td>\n",
              "      <td>0</td>\n",
              "      <td>0</td>\n",
              "      <td>1</td>\n",
              "      <td>0</td>\n",
              "      <td>1</td>\n",
              "      <td>0</td>\n",
              "      <td>0</td>\n",
              "      <td>0</td>\n",
              "      <td>1</td>\n",
              "    </tr>\n",
              "    <tr>\n",
              "      <th>1</th>\n",
              "      <td>www.dghjdgf.com/paypal.co.uk/cycgi-bin/webscrc...</td>\n",
              "      <td>bad</td>\n",
              "      <td>4</td>\n",
              "      <td>0</td>\n",
              "      <td>0</td>\n",
              "      <td>1</td>\n",
              "      <td>0</td>\n",
              "      <td>1</td>\n",
              "      <td>0</td>\n",
              "      <td>0</td>\n",
              "      <td>0</td>\n",
              "      <td>1</td>\n",
              "    </tr>\n",
              "    <tr>\n",
              "      <th>2</th>\n",
              "      <td>serviciosbys.com/paypal.cgi.bin.get-into.herf....</td>\n",
              "      <td>bad</td>\n",
              "      <td>11</td>\n",
              "      <td>0</td>\n",
              "      <td>0</td>\n",
              "      <td>1</td>\n",
              "      <td>0</td>\n",
              "      <td>1</td>\n",
              "      <td>0</td>\n",
              "      <td>0</td>\n",
              "      <td>0</td>\n",
              "      <td>1</td>\n",
              "    </tr>\n",
              "    <tr>\n",
              "      <th>3</th>\n",
              "      <td>mail.printakid.com/www.online.americanexpress....</td>\n",
              "      <td>bad</td>\n",
              "      <td>2</td>\n",
              "      <td>0</td>\n",
              "      <td>0</td>\n",
              "      <td>0</td>\n",
              "      <td>0</td>\n",
              "      <td>0</td>\n",
              "      <td>0</td>\n",
              "      <td>0</td>\n",
              "      <td>0</td>\n",
              "      <td>1</td>\n",
              "    </tr>\n",
              "    <tr>\n",
              "      <th>4</th>\n",
              "      <td>thewhiskeydregs.com/wp-content/themes/widescre...</td>\n",
              "      <td>bad</td>\n",
              "      <td>10</td>\n",
              "      <td>0</td>\n",
              "      <td>0</td>\n",
              "      <td>1</td>\n",
              "      <td>0</td>\n",
              "      <td>1</td>\n",
              "      <td>0</td>\n",
              "      <td>0</td>\n",
              "      <td>0</td>\n",
              "      <td>1</td>\n",
              "    </tr>\n",
              "  </tbody>\n",
              "</table>\n",
              "</div>\n",
              "    <div class=\"colab-df-buttons\">\n",
              "\n",
              "  <div class=\"colab-df-container\">\n",
              "    <button class=\"colab-df-convert\" onclick=\"convertToInteractive('df-cd48f603-c7ed-41c4-b323-51d3576e863c')\"\n",
              "            title=\"Convert this dataframe to an interactive table.\"\n",
              "            style=\"display:none;\">\n",
              "\n",
              "  <svg xmlns=\"http://www.w3.org/2000/svg\" height=\"24px\" viewBox=\"0 -960 960 960\">\n",
              "    <path d=\"M120-120v-720h720v720H120Zm60-500h600v-160H180v160Zm220 220h160v-160H400v160Zm0 220h160v-160H400v160ZM180-400h160v-160H180v160Zm440 0h160v-160H620v160ZM180-180h160v-160H180v160Zm440 0h160v-160H620v160Z\"/>\n",
              "  </svg>\n",
              "    </button>\n",
              "\n",
              "  <style>\n",
              "    .colab-df-container {\n",
              "      display:flex;\n",
              "      gap: 12px;\n",
              "    }\n",
              "\n",
              "    .colab-df-convert {\n",
              "      background-color: #E8F0FE;\n",
              "      border: none;\n",
              "      border-radius: 50%;\n",
              "      cursor: pointer;\n",
              "      display: none;\n",
              "      fill: #1967D2;\n",
              "      height: 32px;\n",
              "      padding: 0 0 0 0;\n",
              "      width: 32px;\n",
              "    }\n",
              "\n",
              "    .colab-df-convert:hover {\n",
              "      background-color: #E2EBFA;\n",
              "      box-shadow: 0px 1px 2px rgba(60, 64, 67, 0.3), 0px 1px 3px 1px rgba(60, 64, 67, 0.15);\n",
              "      fill: #174EA6;\n",
              "    }\n",
              "\n",
              "    .colab-df-buttons div {\n",
              "      margin-bottom: 4px;\n",
              "    }\n",
              "\n",
              "    [theme=dark] .colab-df-convert {\n",
              "      background-color: #3B4455;\n",
              "      fill: #D2E3FC;\n",
              "    }\n",
              "\n",
              "    [theme=dark] .colab-df-convert:hover {\n",
              "      background-color: #434B5C;\n",
              "      box-shadow: 0px 1px 3px 1px rgba(0, 0, 0, 0.15);\n",
              "      filter: drop-shadow(0px 1px 2px rgba(0, 0, 0, 0.3));\n",
              "      fill: #FFFFFF;\n",
              "    }\n",
              "  </style>\n",
              "\n",
              "    <script>\n",
              "      const buttonEl =\n",
              "        document.querySelector('#df-cd48f603-c7ed-41c4-b323-51d3576e863c button.colab-df-convert');\n",
              "      buttonEl.style.display =\n",
              "        google.colab.kernel.accessAllowed ? 'block' : 'none';\n",
              "\n",
              "      async function convertToInteractive(key) {\n",
              "        const element = document.querySelector('#df-cd48f603-c7ed-41c4-b323-51d3576e863c');\n",
              "        const dataTable =\n",
              "          await google.colab.kernel.invokeFunction('convertToInteractive',\n",
              "                                                    [key], {});\n",
              "        if (!dataTable) return;\n",
              "\n",
              "        const docLinkHtml = 'Like what you see? Visit the ' +\n",
              "          '<a target=\"_blank\" href=https://colab.research.google.com/notebooks/data_table.ipynb>data table notebook</a>'\n",
              "          + ' to learn more about interactive tables.';\n",
              "        element.innerHTML = '';\n",
              "        dataTable['output_type'] = 'display_data';\n",
              "        await google.colab.output.renderOutput(dataTable, element);\n",
              "        const docLink = document.createElement('div');\n",
              "        docLink.innerHTML = docLinkHtml;\n",
              "        element.appendChild(docLink);\n",
              "      }\n",
              "    </script>\n",
              "  </div>\n",
              "\n",
              "\n",
              "<div id=\"df-34de583f-7c2a-43e0-a199-d43c08422e06\">\n",
              "  <button class=\"colab-df-quickchart\" onclick=\"quickchart('df-34de583f-7c2a-43e0-a199-d43c08422e06')\"\n",
              "            title=\"Suggest charts\"\n",
              "            style=\"display:none;\">\n",
              "\n",
              "<svg xmlns=\"http://www.w3.org/2000/svg\" height=\"24px\"viewBox=\"0 0 24 24\"\n",
              "     width=\"24px\">\n",
              "    <g>\n",
              "        <path d=\"M19 3H5c-1.1 0-2 .9-2 2v14c0 1.1.9 2 2 2h14c1.1 0 2-.9 2-2V5c0-1.1-.9-2-2-2zM9 17H7v-7h2v7zm4 0h-2V7h2v10zm4 0h-2v-4h2v4z\"/>\n",
              "    </g>\n",
              "</svg>\n",
              "  </button>\n",
              "\n",
              "<style>\n",
              "  .colab-df-quickchart {\n",
              "      --bg-color: #E8F0FE;\n",
              "      --fill-color: #1967D2;\n",
              "      --hover-bg-color: #E2EBFA;\n",
              "      --hover-fill-color: #174EA6;\n",
              "      --disabled-fill-color: #AAA;\n",
              "      --disabled-bg-color: #DDD;\n",
              "  }\n",
              "\n",
              "  [theme=dark] .colab-df-quickchart {\n",
              "      --bg-color: #3B4455;\n",
              "      --fill-color: #D2E3FC;\n",
              "      --hover-bg-color: #434B5C;\n",
              "      --hover-fill-color: #FFFFFF;\n",
              "      --disabled-bg-color: #3B4455;\n",
              "      --disabled-fill-color: #666;\n",
              "  }\n",
              "\n",
              "  .colab-df-quickchart {\n",
              "    background-color: var(--bg-color);\n",
              "    border: none;\n",
              "    border-radius: 50%;\n",
              "    cursor: pointer;\n",
              "    display: none;\n",
              "    fill: var(--fill-color);\n",
              "    height: 32px;\n",
              "    padding: 0;\n",
              "    width: 32px;\n",
              "  }\n",
              "\n",
              "  .colab-df-quickchart:hover {\n",
              "    background-color: var(--hover-bg-color);\n",
              "    box-shadow: 0 1px 2px rgba(60, 64, 67, 0.3), 0 1px 3px 1px rgba(60, 64, 67, 0.15);\n",
              "    fill: var(--button-hover-fill-color);\n",
              "  }\n",
              "\n",
              "  .colab-df-quickchart-complete:disabled,\n",
              "  .colab-df-quickchart-complete:disabled:hover {\n",
              "    background-color: var(--disabled-bg-color);\n",
              "    fill: var(--disabled-fill-color);\n",
              "    box-shadow: none;\n",
              "  }\n",
              "\n",
              "  .colab-df-spinner {\n",
              "    border: 2px solid var(--fill-color);\n",
              "    border-color: transparent;\n",
              "    border-bottom-color: var(--fill-color);\n",
              "    animation:\n",
              "      spin 1s steps(1) infinite;\n",
              "  }\n",
              "\n",
              "  @keyframes spin {\n",
              "    0% {\n",
              "      border-color: transparent;\n",
              "      border-bottom-color: var(--fill-color);\n",
              "      border-left-color: var(--fill-color);\n",
              "    }\n",
              "    20% {\n",
              "      border-color: transparent;\n",
              "      border-left-color: var(--fill-color);\n",
              "      border-top-color: var(--fill-color);\n",
              "    }\n",
              "    30% {\n",
              "      border-color: transparent;\n",
              "      border-left-color: var(--fill-color);\n",
              "      border-top-color: var(--fill-color);\n",
              "      border-right-color: var(--fill-color);\n",
              "    }\n",
              "    40% {\n",
              "      border-color: transparent;\n",
              "      border-right-color: var(--fill-color);\n",
              "      border-top-color: var(--fill-color);\n",
              "    }\n",
              "    60% {\n",
              "      border-color: transparent;\n",
              "      border-right-color: var(--fill-color);\n",
              "    }\n",
              "    80% {\n",
              "      border-color: transparent;\n",
              "      border-right-color: var(--fill-color);\n",
              "      border-bottom-color: var(--fill-color);\n",
              "    }\n",
              "    90% {\n",
              "      border-color: transparent;\n",
              "      border-bottom-color: var(--fill-color);\n",
              "    }\n",
              "  }\n",
              "</style>\n",
              "\n",
              "  <script>\n",
              "    async function quickchart(key) {\n",
              "      const quickchartButtonEl =\n",
              "        document.querySelector('#' + key + ' button');\n",
              "      quickchartButtonEl.disabled = true;  // To prevent multiple clicks.\n",
              "      quickchartButtonEl.classList.add('colab-df-spinner');\n",
              "      try {\n",
              "        const charts = await google.colab.kernel.invokeFunction(\n",
              "            'suggestCharts', [key], {});\n",
              "      } catch (error) {\n",
              "        console.error('Error during call to suggestCharts:', error);\n",
              "      }\n",
              "      quickchartButtonEl.classList.remove('colab-df-spinner');\n",
              "      quickchartButtonEl.classList.add('colab-df-quickchart-complete');\n",
              "    }\n",
              "    (() => {\n",
              "      let quickchartButtonEl =\n",
              "        document.querySelector('#df-34de583f-7c2a-43e0-a199-d43c08422e06 button');\n",
              "      quickchartButtonEl.style.display =\n",
              "        google.colab.kernel.accessAllowed ? 'block' : 'none';\n",
              "    })();\n",
              "  </script>\n",
              "</div>\n",
              "\n",
              "    </div>\n",
              "  </div>\n"
            ]
          },
          "metadata": {},
          "execution_count": 16
        }
      ]
    },
    {
      "cell_type": "code",
      "source": [
        "dataset=df"
      ],
      "metadata": {
        "id": "PtdWlTT462pa"
      },
      "execution_count": null,
      "outputs": []
    },
    {
      "cell_type": "code",
      "source": [
        "from sklearn.preprocessing import LabelEncoder"
      ],
      "metadata": {
        "id": "a-4TlEM968pW"
      },
      "execution_count": null,
      "outputs": []
    },
    {
      "cell_type": "code",
      "source": [
        "label_encoder = LabelEncoder()"
      ],
      "metadata": {
        "id": "7v5S-wUD7S2M"
      },
      "execution_count": null,
      "outputs": []
    },
    {
      "cell_type": "code",
      "source": [
        "encoded_values = label_encoder.fit_transform(dataset[[\"Label\"]])"
      ],
      "metadata": {
        "colab": {
          "base_uri": "https://localhost:8080/"
        },
        "id": "dos3AeCx7VxS",
        "outputId": "1f83f7c3-9a1d-4ea1-fe47-037b4a33e39c"
      },
      "execution_count": null,
      "outputs": [
        {
          "output_type": "stream",
          "name": "stderr",
          "text": [
            "/usr/local/lib/python3.10/dist-packages/sklearn/preprocessing/_label.py:114: DataConversionWarning: A column-vector y was passed when a 1d array was expected. Please change the shape of y to (n_samples, ), for example using ravel().\n",
            "  y = column_or_1d(y, warn=True)\n"
          ]
        }
      ]
    },
    {
      "cell_type": "code",
      "source": [
        "dataset.drop(columns=['Label','URL'], inplace=True)\n",
        "X=dataset\n",
        "y=encoded_values"
      ],
      "metadata": {
        "id": "mU_JRi_C7ilV"
      },
      "execution_count": null,
      "outputs": []
    },
    {
      "cell_type": "code",
      "source": [
        "X.info()"
      ],
      "metadata": {
        "colab": {
          "base_uri": "https://localhost:8080/"
        },
        "id": "AqBhXYGOAAZg",
        "outputId": "c053223a-8372-4055-cf07-d7fb3b85b3d5"
      },
      "execution_count": null,
      "outputs": [
        {
          "output_type": "stream",
          "name": "stdout",
          "text": [
            "<class 'pandas.core.frame.DataFrame'>\n",
            "RangeIndex: 549846 entries, 0 to 549845\n",
            "Data columns (total 10 columns):\n",
            " #   Column           Non-Null Count   Dtype\n",
            "---  ------           --------------   -----\n",
            " 0   slash_count      549846 non-null  int64\n",
            " 1   unicode          549846 non-null  int64\n",
            " 2   ip_address       549846 non-null  int64\n",
            " 3   at_symbol        549846 non-null  int64\n",
            " 4   dot_count        549846 non-null  int64\n",
            " 5   dash             549846 non-null  int64\n",
            " 6   double_slash     549846 non-null  int64\n",
            " 7   https_token      549846 non-null  int64\n",
            " 8   shortened_url    549846 non-null  int64\n",
            " 9   hostname_length  549846 non-null  int64\n",
            "dtypes: int64(10)\n",
            "memory usage: 42.0 MB\n"
          ]
        }
      ]
    },
    {
      "cell_type": "code",
      "source": [
        "X.info()"
      ],
      "metadata": {
        "colab": {
          "base_uri": "https://localhost:8080/"
        },
        "id": "yL4oMOiq_FWH",
        "outputId": "6939cf3e-a5de-4765-f4b0-d5b8e1acc352"
      },
      "execution_count": null,
      "outputs": [
        {
          "output_type": "stream",
          "name": "stdout",
          "text": [
            "<class 'pandas.core.frame.DataFrame'>\n",
            "RangeIndex: 549846 entries, 0 to 549845\n",
            "Data columns (total 10 columns):\n",
            " #   Column           Non-Null Count   Dtype\n",
            "---  ------           --------------   -----\n",
            " 0   slash_count      549846 non-null  int64\n",
            " 1   unicode          549846 non-null  int64\n",
            " 2   ip_address       549846 non-null  int64\n",
            " 3   at_symbol        549846 non-null  int64\n",
            " 4   dot_count        549846 non-null  int64\n",
            " 5   dash             549846 non-null  int64\n",
            " 6   double_slash     549846 non-null  int64\n",
            " 7   https_token      549846 non-null  int64\n",
            " 8   shortened_url    549846 non-null  int64\n",
            " 9   hostname_length  549846 non-null  int64\n",
            "dtypes: int64(10)\n",
            "memory usage: 42.0 MB\n"
          ]
        }
      ]
    },
    {
      "cell_type": "code",
      "source": [
        "from sklearn.model_selection import train_test_split\n",
        "X_train, X_test, y_train, y_test = train_test_split(X, y, test_size=0.1, random_state=42)"
      ],
      "metadata": {
        "id": "zs9B9HBW8GEU"
      },
      "execution_count": null,
      "outputs": []
    },
    {
      "cell_type": "code",
      "source": [
        "from sklearn.ensemble import RandomForestClassifier\n",
        "from sklearn.metrics import accuracy_score\n",
        "\n",
        "# Create a Random Forest Classifier instance\n",
        "rf_classifier = RandomForestClassifier(n_estimators=100, random_state=42)\n",
        "\n",
        "# Train the Random Forest model\n",
        "rf_classifier.fit(X_train, y_train)\n",
        "\n",
        "# Predict on the test set\n",
        "y_pred = rf_classifier.predict(X_test)\n",
        "\n",
        "# Calculate accuracy\n",
        "accuracy = accuracy_score(y_test, y_pred)\n",
        "print(\"Accuracy:\", accuracy)"
      ],
      "metadata": {
        "id": "vomdFu86Gagd"
      },
      "execution_count": null,
      "outputs": []
    },
    {
      "cell_type": "code",
      "source": [
        "rf_classifier.predict(np.array([3,0,0,0,1,0,0,1,0,0]).reshape(1,-1))"
      ],
      "metadata": {
        "colab": {
          "base_uri": "https://localhost:8080/"
        },
        "id": "EPE8x6K0PCV-",
        "outputId": "8de2fec0-ad76-41fa-9ebf-5f73b81f2aeb"
      },
      "execution_count": null,
      "outputs": [
        {
          "output_type": "stream",
          "name": "stderr",
          "text": [
            "/usr/local/lib/python3.10/dist-packages/sklearn/base.py:493: UserWarning: X does not have valid feature names, but RandomForestClassifier was fitted with feature names\n",
            "  warnings.warn(\n"
          ]
        },
        {
          "output_type": "execute_result",
          "data": {
            "text/plain": [
              "array([0])"
            ]
          },
          "metadata": {},
          "execution_count": 30
        }
      ]
    },
    {
      "cell_type": "code",
      "source": [
        "def calci(url):\n",
        "    try:\n",
        "        # response = requests.get(url)\n",
        "        # html_content = response.text\n",
        "        array=[]\n",
        "        # soup = BeautifulSoup(html_content, 'html.parser')\n",
        "        # features['link_count']=len(soup.find_all('a'))\n",
        "        # features['i-frame']=int(bool(soup.find_all('iframe')))\n",
        "\n",
        "        # script_tags = soup.find_all('script')\n",
        "        # javascript_content = ''\n",
        "        # for script in script_tags:\n",
        "        #     script_content = script.text.lower()\n",
        "        #     if 'event.button==2' in script_content or 'event.which==3' in script_content:\n",
        "        #         if 'preventdefault' in script_content or 'return false' in script_content:\n",
        "        #             features['right-dis'] = 1\n",
        "\n",
        "        array.append(int(count_slash(url)))\n",
        "        array.append(int(c_unicode(url)))\n",
        "        array.append(int(contains_ip_address(url)))\n",
        "        array.append(int(contains_at_symbol(url)))\n",
        "        array.append(int(count_dots_in_hostname(url)))\n",
        "        array.append(int(contains_at_symbol(url)))\n",
        "        array.append(int(check_double_slash_in_path(url)))\n",
        "        array.append(int(check_https_token_in_url(url)))\n",
        "        array.append(int(is_shortened_url(url)))\n",
        "        array.append(int(check_hostname_length(url)))\n",
        "\n",
        "        array=np.array(array)\n",
        "\n",
        "\n",
        "\n",
        "        return array\n",
        "\n",
        "    except Exception as e:\n",
        "        print(f\"Error occurred: {e}\")\n",
        "        return None, None\n"
      ],
      "metadata": {
        "id": "DELawbDaMN43"
      },
      "execution_count": null,
      "outputs": []
    },
    {
      "cell_type": "code",
      "source": [
        "from joblib import dump\n",
        "\n",
        "# Assuming rf_classifier is your trained RandomForestClassifier model\n",
        "dump(rf_classifier, 'random_forest_model.pkl')\n"
      ],
      "metadata": {
        "colab": {
          "base_uri": "https://localhost:8080/"
        },
        "id": "rISDyzkIRBm_",
        "outputId": "b3a1f2ef-7080-4c24-f3b8-62c4b07c90cc"
      },
      "execution_count": null,
      "outputs": [
        {
          "output_type": "execute_result",
          "data": {
            "text/plain": [
              "['random_forest_model.pkl']"
            ]
          },
          "metadata": {},
          "execution_count": 27
        }
      ]
    },
    {
      "cell_type": "code",
      "source": [
        "from google.colab import files\n",
        "\n",
        "# Download the .pkl file\n",
        "files.download('random_forest_model.pkl')\n",
        "\n"
      ],
      "metadata": {
        "colab": {
          "base_uri": "https://localhost:8080/",
          "height": 17
        },
        "id": "6TaofmXGSQFy",
        "outputId": "8a9cc1fc-5854-47e1-db89-357f69b3b959"
      },
      "execution_count": null,
      "outputs": [
        {
          "output_type": "display_data",
          "data": {
            "text/plain": [
              "<IPython.core.display.Javascript object>"
            ],
            "application/javascript": [
              "\n",
              "    async function download(id, filename, size) {\n",
              "      if (!google.colab.kernel.accessAllowed) {\n",
              "        return;\n",
              "      }\n",
              "      const div = document.createElement('div');\n",
              "      const label = document.createElement('label');\n",
              "      label.textContent = `Downloading \"${filename}\": `;\n",
              "      div.appendChild(label);\n",
              "      const progress = document.createElement('progress');\n",
              "      progress.max = size;\n",
              "      div.appendChild(progress);\n",
              "      document.body.appendChild(div);\n",
              "\n",
              "      const buffers = [];\n",
              "      let downloaded = 0;\n",
              "\n",
              "      const channel = await google.colab.kernel.comms.open(id);\n",
              "      // Send a message to notify the kernel that we're ready.\n",
              "      channel.send({})\n",
              "\n",
              "      for await (const message of channel.messages) {\n",
              "        // Send a message to notify the kernel that we're ready.\n",
              "        channel.send({})\n",
              "        if (message.buffers) {\n",
              "          for (const buffer of message.buffers) {\n",
              "            buffers.push(buffer);\n",
              "            downloaded += buffer.byteLength;\n",
              "            progress.value = downloaded;\n",
              "          }\n",
              "        }\n",
              "      }\n",
              "      const blob = new Blob(buffers, {type: 'application/binary'});\n",
              "      const a = document.createElement('a');\n",
              "      a.href = window.URL.createObjectURL(blob);\n",
              "      a.download = filename;\n",
              "      div.appendChild(a);\n",
              "      a.click();\n",
              "      div.remove();\n",
              "    }\n",
              "  "
            ]
          },
          "metadata": {}
        },
        {
          "output_type": "display_data",
          "data": {
            "text/plain": [
              "<IPython.core.display.Javascript object>"
            ],
            "application/javascript": [
              "download(\"download_7e9d9486-e8e2-44e4-81a0-1916a3366257\", \"random_forest_model.pkl\", 1569273)"
            ]
          },
          "metadata": {}
        }
      ]
    }
  ]
}